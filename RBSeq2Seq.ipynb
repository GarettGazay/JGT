{
  "nbformat": 4,
  "nbformat_minor": 0,
  "metadata": {
    "colab": {
      "provenance": [],
      "authorship_tag": "ABX9TyMRH8Uuv/LWtRhHKbADqu3k",
      "include_colab_link": true
    },
    "kernelspec": {
      "name": "python3",
      "display_name": "Python 3"
    },
    "language_info": {
      "name": "python"
    }
  },
  "cells": [
    {
      "cell_type": "markdown",
      "metadata": {
        "id": "view-in-github",
        "colab_type": "text"
      },
      "source": [
        "<a href=\"https://colab.research.google.com/github/GarettGazay/JGT/blob/master/RBSeq2Seq.ipynb\" target=\"_parent\"><img src=\"https://colab.research.google.com/assets/colab-badge.svg\" alt=\"Open In Colab\"/></a>"
      ]
    },
    {
      "cell_type": "code",
      "execution_count": 1993,
      "metadata": {
        "id": "CofSU91rN0tQ"
      },
      "outputs": [],
      "source": [
        "import tensorflow as tf\n",
        "from tensorflow import keras\n",
        "from keras.models import Sequential\n",
        "from keras.layers import LSTM, Dense\n",
        "import numpy as np\n",
        "import pandas as pd\n",
        "import time"
      ]
    },
    {
      "cell_type": "code",
      "source": [
        "rides = pd.read_csv('/content/ordering_dataset.csv')"
      ],
      "metadata": {
        "id": "dHTOk2lyN8H6"
      },
      "execution_count": 1994,
      "outputs": []
    },
    {
      "cell_type": "code",
      "source": [
        "rides = rides.drop(['Unnamed: 0','order','rider.first_name','rider.last_name','pickup.event_location.address1','dropoff.event_location.address1'], axis=1)"
      ],
      "metadata": {
        "id": "3E_WYqzmOmuR"
      },
      "execution_count": 1995,
      "outputs": []
    },
    {
      "cell_type": "code",
      "source": [
        "rides.head()"
      ],
      "metadata": {
        "colab": {
          "base_uri": "https://localhost:8080/",
          "height": 270
        },
        "id": "r84oLFbQE_vl",
        "outputId": "676e1c3f-8d30-4da4-a1f9-7c1cdd2be549"
      },
      "execution_count": 1996,
      "outputs": [
        {
          "output_type": "execute_result",
          "data": {
            "text/plain": [
              "   space_type  billable_distance  run_name  rider.mediroutes_rider_id  \\\n",
              "0    1.000000           0.012314  0.181818                   0.184127   \n",
              "1    1.000000           0.006394  0.181818                   0.198413   \n",
              "2    1.000000           0.003826  0.181818                   0.182540   \n",
              "3    0.333333           0.023389  0.136364                   0.220635   \n",
              "4    0.333333           0.018819  0.136364                   0.092063   \n",
              "\n",
              "   pickup.event_location.zip  pickup.event_location.longitude  \\\n",
              "0                   0.508772                        -0.996364   \n",
              "1                   0.350877                        -0.996461   \n",
              "2                   0.824561                        -0.996339   \n",
              "3                   0.771930                        -0.996058   \n",
              "4                   0.719298                        -0.995385   \n",
              "\n",
              "   pickup.event_location.latitude  dropoff.event_location.zip  \\\n",
              "0                        0.992340                    0.857143   \n",
              "1                        0.989864                    0.825397   \n",
              "2                        0.990125                    0.825397   \n",
              "3                        0.990114                    0.682540   \n",
              "4                        0.991005                    0.746032   \n",
              "\n",
              "   dropoff.event_location.longitude  dropoff.event_location.latitude  \\\n",
              "0                         -0.990424                         0.848616   \n",
              "1                         -0.990674                         0.847189   \n",
              "2                         -0.990674                         0.847189   \n",
              "3                         -0.989395                         0.845235   \n",
              "4                         -0.989807                         0.845745   \n",
              "\n",
              "   pickup_month  pickup_day  pickup_hour  pickup_minute  dropoff_hour  \\\n",
              "0           1.0         1.0     0.095238       0.517241      0.000000   \n",
              "1           1.0         1.0     0.142857       0.517241      0.105263   \n",
              "2           1.0         1.0     0.142857       0.517241      0.105263   \n",
              "3           1.0         1.0     0.238095       0.206897      0.210526   \n",
              "4           1.0         1.0     0.285714       0.517241      0.263158   \n",
              "\n",
              "   dropoff_minute  \n",
              "0        0.818182  \n",
              "1        0.000000  \n",
              "2        0.000000  \n",
              "3        0.000000  \n",
              "4        0.545455  "
            ],
            "text/html": [
              "\n",
              "  <div id=\"df-812480db-45a3-4cb9-806f-d5ec8eaa8fe1\">\n",
              "    <div class=\"colab-df-container\">\n",
              "      <div>\n",
              "<style scoped>\n",
              "    .dataframe tbody tr th:only-of-type {\n",
              "        vertical-align: middle;\n",
              "    }\n",
              "\n",
              "    .dataframe tbody tr th {\n",
              "        vertical-align: top;\n",
              "    }\n",
              "\n",
              "    .dataframe thead th {\n",
              "        text-align: right;\n",
              "    }\n",
              "</style>\n",
              "<table border=\"1\" class=\"dataframe\">\n",
              "  <thead>\n",
              "    <tr style=\"text-align: right;\">\n",
              "      <th></th>\n",
              "      <th>space_type</th>\n",
              "      <th>billable_distance</th>\n",
              "      <th>run_name</th>\n",
              "      <th>rider.mediroutes_rider_id</th>\n",
              "      <th>pickup.event_location.zip</th>\n",
              "      <th>pickup.event_location.longitude</th>\n",
              "      <th>pickup.event_location.latitude</th>\n",
              "      <th>dropoff.event_location.zip</th>\n",
              "      <th>dropoff.event_location.longitude</th>\n",
              "      <th>dropoff.event_location.latitude</th>\n",
              "      <th>pickup_month</th>\n",
              "      <th>pickup_day</th>\n",
              "      <th>pickup_hour</th>\n",
              "      <th>pickup_minute</th>\n",
              "      <th>dropoff_hour</th>\n",
              "      <th>dropoff_minute</th>\n",
              "    </tr>\n",
              "  </thead>\n",
              "  <tbody>\n",
              "    <tr>\n",
              "      <th>0</th>\n",
              "      <td>1.000000</td>\n",
              "      <td>0.012314</td>\n",
              "      <td>0.181818</td>\n",
              "      <td>0.184127</td>\n",
              "      <td>0.508772</td>\n",
              "      <td>-0.996364</td>\n",
              "      <td>0.992340</td>\n",
              "      <td>0.857143</td>\n",
              "      <td>-0.990424</td>\n",
              "      <td>0.848616</td>\n",
              "      <td>1.0</td>\n",
              "      <td>1.0</td>\n",
              "      <td>0.095238</td>\n",
              "      <td>0.517241</td>\n",
              "      <td>0.000000</td>\n",
              "      <td>0.818182</td>\n",
              "    </tr>\n",
              "    <tr>\n",
              "      <th>1</th>\n",
              "      <td>1.000000</td>\n",
              "      <td>0.006394</td>\n",
              "      <td>0.181818</td>\n",
              "      <td>0.198413</td>\n",
              "      <td>0.350877</td>\n",
              "      <td>-0.996461</td>\n",
              "      <td>0.989864</td>\n",
              "      <td>0.825397</td>\n",
              "      <td>-0.990674</td>\n",
              "      <td>0.847189</td>\n",
              "      <td>1.0</td>\n",
              "      <td>1.0</td>\n",
              "      <td>0.142857</td>\n",
              "      <td>0.517241</td>\n",
              "      <td>0.105263</td>\n",
              "      <td>0.000000</td>\n",
              "    </tr>\n",
              "    <tr>\n",
              "      <th>2</th>\n",
              "      <td>1.000000</td>\n",
              "      <td>0.003826</td>\n",
              "      <td>0.181818</td>\n",
              "      <td>0.182540</td>\n",
              "      <td>0.824561</td>\n",
              "      <td>-0.996339</td>\n",
              "      <td>0.990125</td>\n",
              "      <td>0.825397</td>\n",
              "      <td>-0.990674</td>\n",
              "      <td>0.847189</td>\n",
              "      <td>1.0</td>\n",
              "      <td>1.0</td>\n",
              "      <td>0.142857</td>\n",
              "      <td>0.517241</td>\n",
              "      <td>0.105263</td>\n",
              "      <td>0.000000</td>\n",
              "    </tr>\n",
              "    <tr>\n",
              "      <th>3</th>\n",
              "      <td>0.333333</td>\n",
              "      <td>0.023389</td>\n",
              "      <td>0.136364</td>\n",
              "      <td>0.220635</td>\n",
              "      <td>0.771930</td>\n",
              "      <td>-0.996058</td>\n",
              "      <td>0.990114</td>\n",
              "      <td>0.682540</td>\n",
              "      <td>-0.989395</td>\n",
              "      <td>0.845235</td>\n",
              "      <td>1.0</td>\n",
              "      <td>1.0</td>\n",
              "      <td>0.238095</td>\n",
              "      <td>0.206897</td>\n",
              "      <td>0.210526</td>\n",
              "      <td>0.000000</td>\n",
              "    </tr>\n",
              "    <tr>\n",
              "      <th>4</th>\n",
              "      <td>0.333333</td>\n",
              "      <td>0.018819</td>\n",
              "      <td>0.136364</td>\n",
              "      <td>0.092063</td>\n",
              "      <td>0.719298</td>\n",
              "      <td>-0.995385</td>\n",
              "      <td>0.991005</td>\n",
              "      <td>0.746032</td>\n",
              "      <td>-0.989807</td>\n",
              "      <td>0.845745</td>\n",
              "      <td>1.0</td>\n",
              "      <td>1.0</td>\n",
              "      <td>0.285714</td>\n",
              "      <td>0.517241</td>\n",
              "      <td>0.263158</td>\n",
              "      <td>0.545455</td>\n",
              "    </tr>\n",
              "  </tbody>\n",
              "</table>\n",
              "</div>\n",
              "      <button class=\"colab-df-convert\" onclick=\"convertToInteractive('df-812480db-45a3-4cb9-806f-d5ec8eaa8fe1')\"\n",
              "              title=\"Convert this dataframe to an interactive table.\"\n",
              "              style=\"display:none;\">\n",
              "        \n",
              "  <svg xmlns=\"http://www.w3.org/2000/svg\" height=\"24px\"viewBox=\"0 0 24 24\"\n",
              "       width=\"24px\">\n",
              "    <path d=\"M0 0h24v24H0V0z\" fill=\"none\"/>\n",
              "    <path d=\"M18.56 5.44l.94 2.06.94-2.06 2.06-.94-2.06-.94-.94-2.06-.94 2.06-2.06.94zm-11 1L8.5 8.5l.94-2.06 2.06-.94-2.06-.94L8.5 2.5l-.94 2.06-2.06.94zm10 10l.94 2.06.94-2.06 2.06-.94-2.06-.94-.94-2.06-.94 2.06-2.06.94z\"/><path d=\"M17.41 7.96l-1.37-1.37c-.4-.4-.92-.59-1.43-.59-.52 0-1.04.2-1.43.59L10.3 9.45l-7.72 7.72c-.78.78-.78 2.05 0 2.83L4 21.41c.39.39.9.59 1.41.59.51 0 1.02-.2 1.41-.59l7.78-7.78 2.81-2.81c.8-.78.8-2.07 0-2.86zM5.41 20L4 18.59l7.72-7.72 1.47 1.35L5.41 20z\"/>\n",
              "  </svg>\n",
              "      </button>\n",
              "      \n",
              "  <style>\n",
              "    .colab-df-container {\n",
              "      display:flex;\n",
              "      flex-wrap:wrap;\n",
              "      gap: 12px;\n",
              "    }\n",
              "\n",
              "    .colab-df-convert {\n",
              "      background-color: #E8F0FE;\n",
              "      border: none;\n",
              "      border-radius: 50%;\n",
              "      cursor: pointer;\n",
              "      display: none;\n",
              "      fill: #1967D2;\n",
              "      height: 32px;\n",
              "      padding: 0 0 0 0;\n",
              "      width: 32px;\n",
              "    }\n",
              "\n",
              "    .colab-df-convert:hover {\n",
              "      background-color: #E2EBFA;\n",
              "      box-shadow: 0px 1px 2px rgba(60, 64, 67, 0.3), 0px 1px 3px 1px rgba(60, 64, 67, 0.15);\n",
              "      fill: #174EA6;\n",
              "    }\n",
              "\n",
              "    [theme=dark] .colab-df-convert {\n",
              "      background-color: #3B4455;\n",
              "      fill: #D2E3FC;\n",
              "    }\n",
              "\n",
              "    [theme=dark] .colab-df-convert:hover {\n",
              "      background-color: #434B5C;\n",
              "      box-shadow: 0px 1px 3px 1px rgba(0, 0, 0, 0.15);\n",
              "      filter: drop-shadow(0px 1px 2px rgba(0, 0, 0, 0.3));\n",
              "      fill: #FFFFFF;\n",
              "    }\n",
              "  </style>\n",
              "\n",
              "      <script>\n",
              "        const buttonEl =\n",
              "          document.querySelector('#df-812480db-45a3-4cb9-806f-d5ec8eaa8fe1 button.colab-df-convert');\n",
              "        buttonEl.style.display =\n",
              "          google.colab.kernel.accessAllowed ? 'block' : 'none';\n",
              "\n",
              "        async function convertToInteractive(key) {\n",
              "          const element = document.querySelector('#df-812480db-45a3-4cb9-806f-d5ec8eaa8fe1');\n",
              "          const dataTable =\n",
              "            await google.colab.kernel.invokeFunction('convertToInteractive',\n",
              "                                                     [key], {});\n",
              "          if (!dataTable) return;\n",
              "\n",
              "          const docLinkHtml = 'Like what you see? Visit the ' +\n",
              "            '<a target=\"_blank\" href=https://colab.research.google.com/notebooks/data_table.ipynb>data table notebook</a>'\n",
              "            + ' to learn more about interactive tables.';\n",
              "          element.innerHTML = '';\n",
              "          dataTable['output_type'] = 'display_data';\n",
              "          await google.colab.output.renderOutput(dataTable, element);\n",
              "          const docLink = document.createElement('div');\n",
              "          docLink.innerHTML = docLinkHtml;\n",
              "          element.appendChild(docLink);\n",
              "        }\n",
              "      </script>\n",
              "    </div>\n",
              "  </div>\n",
              "  "
            ]
          },
          "metadata": {},
          "execution_count": 1996
        }
      ]
    },
    {
      "cell_type": "code",
      "source": [
        "rides = rides.astype('float32')"
      ],
      "metadata": {
        "id": "5rDhFO1OfzGU"
      },
      "execution_count": 1997,
      "outputs": []
    },
    {
      "cell_type": "code",
      "source": [
        "rides.dtypes"
      ],
      "metadata": {
        "colab": {
          "base_uri": "https://localhost:8080/"
        },
        "id": "Lr3bpD9Wf77V",
        "outputId": "21fa5056-10d3-4a1a-aec1-7368bf1f36fb"
      },
      "execution_count": 1998,
      "outputs": [
        {
          "output_type": "execute_result",
          "data": {
            "text/plain": [
              "space_type                          float32\n",
              "billable_distance                   float32\n",
              "run_name                            float32\n",
              "rider.mediroutes_rider_id           float32\n",
              "pickup.event_location.zip           float32\n",
              "pickup.event_location.longitude     float32\n",
              "pickup.event_location.latitude      float32\n",
              "dropoff.event_location.zip          float32\n",
              "dropoff.event_location.longitude    float32\n",
              "dropoff.event_location.latitude     float32\n",
              "pickup_month                        float32\n",
              "pickup_day                          float32\n",
              "pickup_hour                         float32\n",
              "pickup_minute                       float32\n",
              "dropoff_hour                        float32\n",
              "dropoff_minute                      float32\n",
              "dtype: object"
            ]
          },
          "metadata": {},
          "execution_count": 1998
        }
      ]
    },
    {
      "cell_type": "code",
      "source": [
        "rides.head()"
      ],
      "metadata": {
        "colab": {
          "base_uri": "https://localhost:8080/",
          "height": 270
        },
        "id": "l8sXH1M0gB9B",
        "outputId": "dd0a8849-768d-463f-c519-828aad1fe93e"
      },
      "execution_count": 1999,
      "outputs": [
        {
          "output_type": "execute_result",
          "data": {
            "text/plain": [
              "   space_type  billable_distance  run_name  rider.mediroutes_rider_id  \\\n",
              "0    1.000000           0.012314  0.181818                   0.184127   \n",
              "1    1.000000           0.006394  0.181818                   0.198413   \n",
              "2    1.000000           0.003826  0.181818                   0.182540   \n",
              "3    0.333333           0.023389  0.136364                   0.220635   \n",
              "4    0.333333           0.018819  0.136364                   0.092063   \n",
              "\n",
              "   pickup.event_location.zip  pickup.event_location.longitude  \\\n",
              "0                   0.508772                        -0.996364   \n",
              "1                   0.350877                        -0.996461   \n",
              "2                   0.824561                        -0.996339   \n",
              "3                   0.771930                        -0.996058   \n",
              "4                   0.719298                        -0.995385   \n",
              "\n",
              "   pickup.event_location.latitude  dropoff.event_location.zip  \\\n",
              "0                        0.992340                    0.857143   \n",
              "1                        0.989864                    0.825397   \n",
              "2                        0.990125                    0.825397   \n",
              "3                        0.990114                    0.682540   \n",
              "4                        0.991005                    0.746032   \n",
              "\n",
              "   dropoff.event_location.longitude  dropoff.event_location.latitude  \\\n",
              "0                         -0.990424                         0.848616   \n",
              "1                         -0.990674                         0.847189   \n",
              "2                         -0.990674                         0.847189   \n",
              "3                         -0.989395                         0.845235   \n",
              "4                         -0.989807                         0.845745   \n",
              "\n",
              "   pickup_month  pickup_day  pickup_hour  pickup_minute  dropoff_hour  \\\n",
              "0           1.0         1.0     0.095238       0.517241      0.000000   \n",
              "1           1.0         1.0     0.142857       0.517241      0.105263   \n",
              "2           1.0         1.0     0.142857       0.517241      0.105263   \n",
              "3           1.0         1.0     0.238095       0.206897      0.210526   \n",
              "4           1.0         1.0     0.285714       0.517241      0.263158   \n",
              "\n",
              "   dropoff_minute  \n",
              "0        0.818182  \n",
              "1        0.000000  \n",
              "2        0.000000  \n",
              "3        0.000000  \n",
              "4        0.545455  "
            ],
            "text/html": [
              "\n",
              "  <div id=\"df-32caefe7-eac7-4e17-95f7-9d498c337365\">\n",
              "    <div class=\"colab-df-container\">\n",
              "      <div>\n",
              "<style scoped>\n",
              "    .dataframe tbody tr th:only-of-type {\n",
              "        vertical-align: middle;\n",
              "    }\n",
              "\n",
              "    .dataframe tbody tr th {\n",
              "        vertical-align: top;\n",
              "    }\n",
              "\n",
              "    .dataframe thead th {\n",
              "        text-align: right;\n",
              "    }\n",
              "</style>\n",
              "<table border=\"1\" class=\"dataframe\">\n",
              "  <thead>\n",
              "    <tr style=\"text-align: right;\">\n",
              "      <th></th>\n",
              "      <th>space_type</th>\n",
              "      <th>billable_distance</th>\n",
              "      <th>run_name</th>\n",
              "      <th>rider.mediroutes_rider_id</th>\n",
              "      <th>pickup.event_location.zip</th>\n",
              "      <th>pickup.event_location.longitude</th>\n",
              "      <th>pickup.event_location.latitude</th>\n",
              "      <th>dropoff.event_location.zip</th>\n",
              "      <th>dropoff.event_location.longitude</th>\n",
              "      <th>dropoff.event_location.latitude</th>\n",
              "      <th>pickup_month</th>\n",
              "      <th>pickup_day</th>\n",
              "      <th>pickup_hour</th>\n",
              "      <th>pickup_minute</th>\n",
              "      <th>dropoff_hour</th>\n",
              "      <th>dropoff_minute</th>\n",
              "    </tr>\n",
              "  </thead>\n",
              "  <tbody>\n",
              "    <tr>\n",
              "      <th>0</th>\n",
              "      <td>1.000000</td>\n",
              "      <td>0.012314</td>\n",
              "      <td>0.181818</td>\n",
              "      <td>0.184127</td>\n",
              "      <td>0.508772</td>\n",
              "      <td>-0.996364</td>\n",
              "      <td>0.992340</td>\n",
              "      <td>0.857143</td>\n",
              "      <td>-0.990424</td>\n",
              "      <td>0.848616</td>\n",
              "      <td>1.0</td>\n",
              "      <td>1.0</td>\n",
              "      <td>0.095238</td>\n",
              "      <td>0.517241</td>\n",
              "      <td>0.000000</td>\n",
              "      <td>0.818182</td>\n",
              "    </tr>\n",
              "    <tr>\n",
              "      <th>1</th>\n",
              "      <td>1.000000</td>\n",
              "      <td>0.006394</td>\n",
              "      <td>0.181818</td>\n",
              "      <td>0.198413</td>\n",
              "      <td>0.350877</td>\n",
              "      <td>-0.996461</td>\n",
              "      <td>0.989864</td>\n",
              "      <td>0.825397</td>\n",
              "      <td>-0.990674</td>\n",
              "      <td>0.847189</td>\n",
              "      <td>1.0</td>\n",
              "      <td>1.0</td>\n",
              "      <td>0.142857</td>\n",
              "      <td>0.517241</td>\n",
              "      <td>0.105263</td>\n",
              "      <td>0.000000</td>\n",
              "    </tr>\n",
              "    <tr>\n",
              "      <th>2</th>\n",
              "      <td>1.000000</td>\n",
              "      <td>0.003826</td>\n",
              "      <td>0.181818</td>\n",
              "      <td>0.182540</td>\n",
              "      <td>0.824561</td>\n",
              "      <td>-0.996339</td>\n",
              "      <td>0.990125</td>\n",
              "      <td>0.825397</td>\n",
              "      <td>-0.990674</td>\n",
              "      <td>0.847189</td>\n",
              "      <td>1.0</td>\n",
              "      <td>1.0</td>\n",
              "      <td>0.142857</td>\n",
              "      <td>0.517241</td>\n",
              "      <td>0.105263</td>\n",
              "      <td>0.000000</td>\n",
              "    </tr>\n",
              "    <tr>\n",
              "      <th>3</th>\n",
              "      <td>0.333333</td>\n",
              "      <td>0.023389</td>\n",
              "      <td>0.136364</td>\n",
              "      <td>0.220635</td>\n",
              "      <td>0.771930</td>\n",
              "      <td>-0.996058</td>\n",
              "      <td>0.990114</td>\n",
              "      <td>0.682540</td>\n",
              "      <td>-0.989395</td>\n",
              "      <td>0.845235</td>\n",
              "      <td>1.0</td>\n",
              "      <td>1.0</td>\n",
              "      <td>0.238095</td>\n",
              "      <td>0.206897</td>\n",
              "      <td>0.210526</td>\n",
              "      <td>0.000000</td>\n",
              "    </tr>\n",
              "    <tr>\n",
              "      <th>4</th>\n",
              "      <td>0.333333</td>\n",
              "      <td>0.018819</td>\n",
              "      <td>0.136364</td>\n",
              "      <td>0.092063</td>\n",
              "      <td>0.719298</td>\n",
              "      <td>-0.995385</td>\n",
              "      <td>0.991005</td>\n",
              "      <td>0.746032</td>\n",
              "      <td>-0.989807</td>\n",
              "      <td>0.845745</td>\n",
              "      <td>1.0</td>\n",
              "      <td>1.0</td>\n",
              "      <td>0.285714</td>\n",
              "      <td>0.517241</td>\n",
              "      <td>0.263158</td>\n",
              "      <td>0.545455</td>\n",
              "    </tr>\n",
              "  </tbody>\n",
              "</table>\n",
              "</div>\n",
              "      <button class=\"colab-df-convert\" onclick=\"convertToInteractive('df-32caefe7-eac7-4e17-95f7-9d498c337365')\"\n",
              "              title=\"Convert this dataframe to an interactive table.\"\n",
              "              style=\"display:none;\">\n",
              "        \n",
              "  <svg xmlns=\"http://www.w3.org/2000/svg\" height=\"24px\"viewBox=\"0 0 24 24\"\n",
              "       width=\"24px\">\n",
              "    <path d=\"M0 0h24v24H0V0z\" fill=\"none\"/>\n",
              "    <path d=\"M18.56 5.44l.94 2.06.94-2.06 2.06-.94-2.06-.94-.94-2.06-.94 2.06-2.06.94zm-11 1L8.5 8.5l.94-2.06 2.06-.94-2.06-.94L8.5 2.5l-.94 2.06-2.06.94zm10 10l.94 2.06.94-2.06 2.06-.94-2.06-.94-.94-2.06-.94 2.06-2.06.94z\"/><path d=\"M17.41 7.96l-1.37-1.37c-.4-.4-.92-.59-1.43-.59-.52 0-1.04.2-1.43.59L10.3 9.45l-7.72 7.72c-.78.78-.78 2.05 0 2.83L4 21.41c.39.39.9.59 1.41.59.51 0 1.02-.2 1.41-.59l7.78-7.78 2.81-2.81c.8-.78.8-2.07 0-2.86zM5.41 20L4 18.59l7.72-7.72 1.47 1.35L5.41 20z\"/>\n",
              "  </svg>\n",
              "      </button>\n",
              "      \n",
              "  <style>\n",
              "    .colab-df-container {\n",
              "      display:flex;\n",
              "      flex-wrap:wrap;\n",
              "      gap: 12px;\n",
              "    }\n",
              "\n",
              "    .colab-df-convert {\n",
              "      background-color: #E8F0FE;\n",
              "      border: none;\n",
              "      border-radius: 50%;\n",
              "      cursor: pointer;\n",
              "      display: none;\n",
              "      fill: #1967D2;\n",
              "      height: 32px;\n",
              "      padding: 0 0 0 0;\n",
              "      width: 32px;\n",
              "    }\n",
              "\n",
              "    .colab-df-convert:hover {\n",
              "      background-color: #E2EBFA;\n",
              "      box-shadow: 0px 1px 2px rgba(60, 64, 67, 0.3), 0px 1px 3px 1px rgba(60, 64, 67, 0.15);\n",
              "      fill: #174EA6;\n",
              "    }\n",
              "\n",
              "    [theme=dark] .colab-df-convert {\n",
              "      background-color: #3B4455;\n",
              "      fill: #D2E3FC;\n",
              "    }\n",
              "\n",
              "    [theme=dark] .colab-df-convert:hover {\n",
              "      background-color: #434B5C;\n",
              "      box-shadow: 0px 1px 3px 1px rgba(0, 0, 0, 0.15);\n",
              "      filter: drop-shadow(0px 1px 2px rgba(0, 0, 0, 0.3));\n",
              "      fill: #FFFFFF;\n",
              "    }\n",
              "  </style>\n",
              "\n",
              "      <script>\n",
              "        const buttonEl =\n",
              "          document.querySelector('#df-32caefe7-eac7-4e17-95f7-9d498c337365 button.colab-df-convert');\n",
              "        buttonEl.style.display =\n",
              "          google.colab.kernel.accessAllowed ? 'block' : 'none';\n",
              "\n",
              "        async function convertToInteractive(key) {\n",
              "          const element = document.querySelector('#df-32caefe7-eac7-4e17-95f7-9d498c337365');\n",
              "          const dataTable =\n",
              "            await google.colab.kernel.invokeFunction('convertToInteractive',\n",
              "                                                     [key], {});\n",
              "          if (!dataTable) return;\n",
              "\n",
              "          const docLinkHtml = 'Like what you see? Visit the ' +\n",
              "            '<a target=\"_blank\" href=https://colab.research.google.com/notebooks/data_table.ipynb>data table notebook</a>'\n",
              "            + ' to learn more about interactive tables.';\n",
              "          element.innerHTML = '';\n",
              "          dataTable['output_type'] = 'display_data';\n",
              "          await google.colab.output.renderOutput(dataTable, element);\n",
              "          const docLink = document.createElement('div');\n",
              "          docLink.innerHTML = docLinkHtml;\n",
              "          element.appendChild(docLink);\n",
              "        }\n",
              "      </script>\n",
              "    </div>\n",
              "  </div>\n",
              "  "
            ]
          },
          "metadata": {},
          "execution_count": 1999
        }
      ]
    },
    {
      "cell_type": "code",
      "source": [
        "rides['pickup_day'] = rides['pickup_day'].astype(int)\n",
        "rides['pickup_month'] = rides['pickup_month'].astype(int)\n",
        "\n",
        "rides['pickup_day'] = rides['pickup_day'].astype(str)\n",
        "rides['pickup_month'] = rides['pickup_month'].astype(str)\n",
        "\n",
        "rides['id'] = rides['pickup_month'] + rides['pickup_day']\n",
        "\n",
        "rides = rides.drop(['pickup_month','pickup_day'], axis=1)"
      ],
      "metadata": {
        "id": "UbRWLKbMNyio"
      },
      "execution_count": 2000,
      "outputs": []
    },
    {
      "cell_type": "code",
      "source": [
        "rides.head()"
      ],
      "metadata": {
        "colab": {
          "base_uri": "https://localhost:8080/",
          "height": 270
        },
        "id": "NH9k8ihZgMpm",
        "outputId": "370663b6-de65-47c9-864c-27381d134a2d"
      },
      "execution_count": 2001,
      "outputs": [
        {
          "output_type": "execute_result",
          "data": {
            "text/plain": [
              "   space_type  billable_distance  run_name  rider.mediroutes_rider_id  \\\n",
              "0    1.000000           0.012314  0.181818                   0.184127   \n",
              "1    1.000000           0.006394  0.181818                   0.198413   \n",
              "2    1.000000           0.003826  0.181818                   0.182540   \n",
              "3    0.333333           0.023389  0.136364                   0.220635   \n",
              "4    0.333333           0.018819  0.136364                   0.092063   \n",
              "\n",
              "   pickup.event_location.zip  pickup.event_location.longitude  \\\n",
              "0                   0.508772                        -0.996364   \n",
              "1                   0.350877                        -0.996461   \n",
              "2                   0.824561                        -0.996339   \n",
              "3                   0.771930                        -0.996058   \n",
              "4                   0.719298                        -0.995385   \n",
              "\n",
              "   pickup.event_location.latitude  dropoff.event_location.zip  \\\n",
              "0                        0.992340                    0.857143   \n",
              "1                        0.989864                    0.825397   \n",
              "2                        0.990125                    0.825397   \n",
              "3                        0.990114                    0.682540   \n",
              "4                        0.991005                    0.746032   \n",
              "\n",
              "   dropoff.event_location.longitude  dropoff.event_location.latitude  \\\n",
              "0                         -0.990424                         0.848616   \n",
              "1                         -0.990674                         0.847189   \n",
              "2                         -0.990674                         0.847189   \n",
              "3                         -0.989395                         0.845235   \n",
              "4                         -0.989807                         0.845745   \n",
              "\n",
              "   pickup_hour  pickup_minute  dropoff_hour  dropoff_minute  id  \n",
              "0     0.095238       0.517241      0.000000        0.818182  11  \n",
              "1     0.142857       0.517241      0.105263        0.000000  11  \n",
              "2     0.142857       0.517241      0.105263        0.000000  11  \n",
              "3     0.238095       0.206897      0.210526        0.000000  11  \n",
              "4     0.285714       0.517241      0.263158        0.545455  11  "
            ],
            "text/html": [
              "\n",
              "  <div id=\"df-a5624fd6-d85e-4fbc-8fb2-149fcfbc270c\">\n",
              "    <div class=\"colab-df-container\">\n",
              "      <div>\n",
              "<style scoped>\n",
              "    .dataframe tbody tr th:only-of-type {\n",
              "        vertical-align: middle;\n",
              "    }\n",
              "\n",
              "    .dataframe tbody tr th {\n",
              "        vertical-align: top;\n",
              "    }\n",
              "\n",
              "    .dataframe thead th {\n",
              "        text-align: right;\n",
              "    }\n",
              "</style>\n",
              "<table border=\"1\" class=\"dataframe\">\n",
              "  <thead>\n",
              "    <tr style=\"text-align: right;\">\n",
              "      <th></th>\n",
              "      <th>space_type</th>\n",
              "      <th>billable_distance</th>\n",
              "      <th>run_name</th>\n",
              "      <th>rider.mediroutes_rider_id</th>\n",
              "      <th>pickup.event_location.zip</th>\n",
              "      <th>pickup.event_location.longitude</th>\n",
              "      <th>pickup.event_location.latitude</th>\n",
              "      <th>dropoff.event_location.zip</th>\n",
              "      <th>dropoff.event_location.longitude</th>\n",
              "      <th>dropoff.event_location.latitude</th>\n",
              "      <th>pickup_hour</th>\n",
              "      <th>pickup_minute</th>\n",
              "      <th>dropoff_hour</th>\n",
              "      <th>dropoff_minute</th>\n",
              "      <th>id</th>\n",
              "    </tr>\n",
              "  </thead>\n",
              "  <tbody>\n",
              "    <tr>\n",
              "      <th>0</th>\n",
              "      <td>1.000000</td>\n",
              "      <td>0.012314</td>\n",
              "      <td>0.181818</td>\n",
              "      <td>0.184127</td>\n",
              "      <td>0.508772</td>\n",
              "      <td>-0.996364</td>\n",
              "      <td>0.992340</td>\n",
              "      <td>0.857143</td>\n",
              "      <td>-0.990424</td>\n",
              "      <td>0.848616</td>\n",
              "      <td>0.095238</td>\n",
              "      <td>0.517241</td>\n",
              "      <td>0.000000</td>\n",
              "      <td>0.818182</td>\n",
              "      <td>11</td>\n",
              "    </tr>\n",
              "    <tr>\n",
              "      <th>1</th>\n",
              "      <td>1.000000</td>\n",
              "      <td>0.006394</td>\n",
              "      <td>0.181818</td>\n",
              "      <td>0.198413</td>\n",
              "      <td>0.350877</td>\n",
              "      <td>-0.996461</td>\n",
              "      <td>0.989864</td>\n",
              "      <td>0.825397</td>\n",
              "      <td>-0.990674</td>\n",
              "      <td>0.847189</td>\n",
              "      <td>0.142857</td>\n",
              "      <td>0.517241</td>\n",
              "      <td>0.105263</td>\n",
              "      <td>0.000000</td>\n",
              "      <td>11</td>\n",
              "    </tr>\n",
              "    <tr>\n",
              "      <th>2</th>\n",
              "      <td>1.000000</td>\n",
              "      <td>0.003826</td>\n",
              "      <td>0.181818</td>\n",
              "      <td>0.182540</td>\n",
              "      <td>0.824561</td>\n",
              "      <td>-0.996339</td>\n",
              "      <td>0.990125</td>\n",
              "      <td>0.825397</td>\n",
              "      <td>-0.990674</td>\n",
              "      <td>0.847189</td>\n",
              "      <td>0.142857</td>\n",
              "      <td>0.517241</td>\n",
              "      <td>0.105263</td>\n",
              "      <td>0.000000</td>\n",
              "      <td>11</td>\n",
              "    </tr>\n",
              "    <tr>\n",
              "      <th>3</th>\n",
              "      <td>0.333333</td>\n",
              "      <td>0.023389</td>\n",
              "      <td>0.136364</td>\n",
              "      <td>0.220635</td>\n",
              "      <td>0.771930</td>\n",
              "      <td>-0.996058</td>\n",
              "      <td>0.990114</td>\n",
              "      <td>0.682540</td>\n",
              "      <td>-0.989395</td>\n",
              "      <td>0.845235</td>\n",
              "      <td>0.238095</td>\n",
              "      <td>0.206897</td>\n",
              "      <td>0.210526</td>\n",
              "      <td>0.000000</td>\n",
              "      <td>11</td>\n",
              "    </tr>\n",
              "    <tr>\n",
              "      <th>4</th>\n",
              "      <td>0.333333</td>\n",
              "      <td>0.018819</td>\n",
              "      <td>0.136364</td>\n",
              "      <td>0.092063</td>\n",
              "      <td>0.719298</td>\n",
              "      <td>-0.995385</td>\n",
              "      <td>0.991005</td>\n",
              "      <td>0.746032</td>\n",
              "      <td>-0.989807</td>\n",
              "      <td>0.845745</td>\n",
              "      <td>0.285714</td>\n",
              "      <td>0.517241</td>\n",
              "      <td>0.263158</td>\n",
              "      <td>0.545455</td>\n",
              "      <td>11</td>\n",
              "    </tr>\n",
              "  </tbody>\n",
              "</table>\n",
              "</div>\n",
              "      <button class=\"colab-df-convert\" onclick=\"convertToInteractive('df-a5624fd6-d85e-4fbc-8fb2-149fcfbc270c')\"\n",
              "              title=\"Convert this dataframe to an interactive table.\"\n",
              "              style=\"display:none;\">\n",
              "        \n",
              "  <svg xmlns=\"http://www.w3.org/2000/svg\" height=\"24px\"viewBox=\"0 0 24 24\"\n",
              "       width=\"24px\">\n",
              "    <path d=\"M0 0h24v24H0V0z\" fill=\"none\"/>\n",
              "    <path d=\"M18.56 5.44l.94 2.06.94-2.06 2.06-.94-2.06-.94-.94-2.06-.94 2.06-2.06.94zm-11 1L8.5 8.5l.94-2.06 2.06-.94-2.06-.94L8.5 2.5l-.94 2.06-2.06.94zm10 10l.94 2.06.94-2.06 2.06-.94-2.06-.94-.94-2.06-.94 2.06-2.06.94z\"/><path d=\"M17.41 7.96l-1.37-1.37c-.4-.4-.92-.59-1.43-.59-.52 0-1.04.2-1.43.59L10.3 9.45l-7.72 7.72c-.78.78-.78 2.05 0 2.83L4 21.41c.39.39.9.59 1.41.59.51 0 1.02-.2 1.41-.59l7.78-7.78 2.81-2.81c.8-.78.8-2.07 0-2.86zM5.41 20L4 18.59l7.72-7.72 1.47 1.35L5.41 20z\"/>\n",
              "  </svg>\n",
              "      </button>\n",
              "      \n",
              "  <style>\n",
              "    .colab-df-container {\n",
              "      display:flex;\n",
              "      flex-wrap:wrap;\n",
              "      gap: 12px;\n",
              "    }\n",
              "\n",
              "    .colab-df-convert {\n",
              "      background-color: #E8F0FE;\n",
              "      border: none;\n",
              "      border-radius: 50%;\n",
              "      cursor: pointer;\n",
              "      display: none;\n",
              "      fill: #1967D2;\n",
              "      height: 32px;\n",
              "      padding: 0 0 0 0;\n",
              "      width: 32px;\n",
              "    }\n",
              "\n",
              "    .colab-df-convert:hover {\n",
              "      background-color: #E2EBFA;\n",
              "      box-shadow: 0px 1px 2px rgba(60, 64, 67, 0.3), 0px 1px 3px 1px rgba(60, 64, 67, 0.15);\n",
              "      fill: #174EA6;\n",
              "    }\n",
              "\n",
              "    [theme=dark] .colab-df-convert {\n",
              "      background-color: #3B4455;\n",
              "      fill: #D2E3FC;\n",
              "    }\n",
              "\n",
              "    [theme=dark] .colab-df-convert:hover {\n",
              "      background-color: #434B5C;\n",
              "      box-shadow: 0px 1px 3px 1px rgba(0, 0, 0, 0.15);\n",
              "      filter: drop-shadow(0px 1px 2px rgba(0, 0, 0, 0.3));\n",
              "      fill: #FFFFFF;\n",
              "    }\n",
              "  </style>\n",
              "\n",
              "      <script>\n",
              "        const buttonEl =\n",
              "          document.querySelector('#df-a5624fd6-d85e-4fbc-8fb2-149fcfbc270c button.colab-df-convert');\n",
              "        buttonEl.style.display =\n",
              "          google.colab.kernel.accessAllowed ? 'block' : 'none';\n",
              "\n",
              "        async function convertToInteractive(key) {\n",
              "          const element = document.querySelector('#df-a5624fd6-d85e-4fbc-8fb2-149fcfbc270c');\n",
              "          const dataTable =\n",
              "            await google.colab.kernel.invokeFunction('convertToInteractive',\n",
              "                                                     [key], {});\n",
              "          if (!dataTable) return;\n",
              "\n",
              "          const docLinkHtml = 'Like what you see? Visit the ' +\n",
              "            '<a target=\"_blank\" href=https://colab.research.google.com/notebooks/data_table.ipynb>data table notebook</a>'\n",
              "            + ' to learn more about interactive tables.';\n",
              "          element.innerHTML = '';\n",
              "          dataTable['output_type'] = 'display_data';\n",
              "          await google.colab.output.renderOutput(dataTable, element);\n",
              "          const docLink = document.createElement('div');\n",
              "          docLink.innerHTML = docLinkHtml;\n",
              "          element.appendChild(docLink);\n",
              "        }\n",
              "      </script>\n",
              "    </div>\n",
              "  </div>\n",
              "  "
            ]
          },
          "metadata": {},
          "execution_count": 2001
        }
      ]
    },
    {
      "cell_type": "code",
      "source": [
        "rides = rides.astype(str)"
      ],
      "metadata": {
        "id": "Wut5nx5c7b8b"
      },
      "execution_count": 2002,
      "outputs": []
    },
    {
      "cell_type": "code",
      "source": [
        "rides.values[0].astype('float32')"
      ],
      "metadata": {
        "colab": {
          "base_uri": "https://localhost:8080/"
        },
        "id": "V_8YkxPM8VXo",
        "outputId": "5e2d18aa-0990-45ef-97c3-baf18ab7101b"
      },
      "execution_count": 2003,
      "outputs": [
        {
          "output_type": "execute_result",
          "data": {
            "text/plain": [
              "array([ 1.      ,  0.012314,  0.181818,  0.184127,  0.508772, -0.996364,\n",
              "        0.99234 ,  0.857143, -0.990424,  0.848616,  0.095238,  0.517241,\n",
              "        0.      ,  0.818182, 11.      ], dtype=float32)"
            ]
          },
          "metadata": {},
          "execution_count": 2003
        }
      ]
    },
    {
      "cell_type": "markdown",
      "source": [
        "Put rides into buckets by date"
      ],
      "metadata": {
        "id": "sEJD-HUyvTh2"
      }
    },
    {
      "cell_type": "code",
      "source": [
        "# Group the rows by the 'id' column\n",
        "grouped = rides.groupby('id')\n",
        "\n",
        "# Create a list to store the grouped arrays\n",
        "day_buckets = []\n",
        "\n",
        "# Loop through each group\n",
        "for name, group in grouped:\n",
        "    # Convert the group to a numpy array\n",
        "    group_array = group.values.astype(np.float32)\n",
        "    \n",
        "    # Append the group array to the list of grouped arrays\n",
        "    day_buckets.append(group_array)\n",
        "\n",
        "# Set the display format of the numpy arrays\n",
        "np.set_printoptions(precision=6, suppress=True)\n",
        "\n",
        "# Sort the list of grouped arrays by the first column of each array\n",
        "day_buckets.sort(key=lambda x: x[0][14])\n"
      ],
      "metadata": {
        "id": "_WIOpiJqvQKv"
      },
      "execution_count": 2004,
      "outputs": []
    },
    {
      "cell_type": "code",
      "source": [
        "# Do this or when you shuffle below it will shuffle both for some fucking reason, and copy doesn't work.\n",
        "day_buckets_y = [x.astype(str) for x in day_buckets]"
      ],
      "metadata": {
        "id": "EN2LBJsqw4v9"
      },
      "execution_count": 2005,
      "outputs": []
    },
    {
      "cell_type": "code",
      "source": [
        "day_buckets_y[0][0]"
      ],
      "metadata": {
        "colab": {
          "base_uri": "https://localhost:8080/"
        },
        "id": "-NS5xNNpQgzX",
        "outputId": "c058d780-e72a-49bc-df32-308fe3c094d6"
      },
      "execution_count": 2006,
      "outputs": [
        {
          "output_type": "execute_result",
          "data": {
            "text/plain": [
              "array(['1.0', '0.0123136155', '0.18181819', '0.18412699', '0.50877196',\n",
              "       '-0.99636376', '0.99233985', '0.85714287', '-0.9904242',\n",
              "       '0.8486156', '0.0952381', '0.51724136', '0.0', '0.8181818', '11.0'],\n",
              "      dtype='<U32')"
            ]
          },
          "metadata": {},
          "execution_count": 2006
        }
      ]
    },
    {
      "cell_type": "code",
      "source": [
        "def shuffle_np_array(np_array_list):\n",
        "    for i in range(len(np_array_list)):\n",
        "        np.random.shuffle(np_array_list[i])\n",
        "    return np_array_list\n",
        "\n",
        "day_buckets_X = shuffle_np_array(day_buckets)[:-1] # create a shuffled version for X below"
      ],
      "metadata": {
        "id": "mfLy4pFVLyOO"
      },
      "execution_count": 2007,
      "outputs": []
    },
    {
      "cell_type": "markdown",
      "source": [
        "Below each 'word' is represented by a vector in the sentence we are trying to predict the order of."
      ],
      "metadata": {
        "id": "wtecLPLw5zO3"
      }
    },
    {
      "cell_type": "code",
      "source": [
        "from tensorflow import keras\n",
        "from tensorflow.keras.preprocessing.sequence import pad_sequences\n",
        "\n",
        "# Define the number of features in each ride vector\n",
        "num_features = 15\n",
        "\n",
        "# Define the maximum length of the sequences\n",
        "max_length = 15\n",
        "\n",
        "X = []\n",
        "y = []\n",
        "# Convert the input data into a 3D array of shape (num_samples, max_length, num_features)\n",
        "for i in day_buckets_X:\n",
        "  X.append(pad_sequences(i, maxlen=max_length, dtype='float32', padding='post'))\n",
        "for i in day_buckets_y:\n",
        "  y.append(pad_sequences(i, maxlen=max_length, dtype='float32', padding='post'))"
      ],
      "metadata": {
        "id": "_L-tLje0TK7i"
      },
      "execution_count": 2008,
      "outputs": []
    },
    {
      "cell_type": "code",
      "source": [
        "X[0]"
      ],
      "metadata": {
        "colab": {
          "base_uri": "https://localhost:8080/"
        },
        "id": "rwfjAkPmlNbP",
        "outputId": "85c821ad-953c-46d3-902f-099a45ab548a"
      },
      "execution_count": 2009,
      "outputs": [
        {
          "output_type": "execute_result",
          "data": {
            "text/plain": [
              "array([[ 0.333333,  0.023389,  0.136364,  0.220635,  0.77193 , -0.996058,\n",
              "         0.990114,  0.68254 , -0.989395,  0.845235,  0.238095,  0.206897,\n",
              "         0.210526,  0.      , 11.      ],\n",
              "       [ 1.      ,  0.006394,  0.181818,  0.198413,  0.350877, -0.996461,\n",
              "         0.989864,  0.825397, -0.990674,  0.847189,  0.142857,  0.517241,\n",
              "         0.105263,  0.      , 11.      ],\n",
              "       [ 1.      ,  0.005842,  0.863636,  0.185714,  0.701754, -0.995342,\n",
              "         0.990551,  0.809524, -0.989697,  0.847978,  0.52381 ,  0.258621,\n",
              "         0.526316,  0.      , 11.      ],\n",
              "       [ 1.      ,  0.014415,  0.227273,  0.133333,  0.614035, -0.995456,\n",
              "         0.991803,  0.825397, -0.990674,  0.847189,  0.52381 ,  0.206897,\n",
              "         0.473684,  1.      , 11.      ],\n",
              "       [ 1.      ,  0.003826,  0.181818,  0.18254 ,  0.824561, -0.996339,\n",
              "         0.990125,  0.825397, -0.990674,  0.847189,  0.142857,  0.517241,\n",
              "         0.105263,  0.      , 11.      ],\n",
              "       [ 0.333333,  0.018819,  0.136364,  0.092063,  0.719298, -0.995385,\n",
              "         0.991005,  0.746032, -0.989807,  0.845745,  0.285714,  0.517241,\n",
              "         0.263158,  0.545455, 11.      ],\n",
              "       [ 1.      ,  0.012314,  0.181818,  0.184127,  0.508772, -0.996364,\n",
              "         0.99234 ,  0.857143, -0.990424,  0.848616,  0.095238,  0.517241,\n",
              "         0.      ,  0.818182, 11.      ],\n",
              "       [ 0.333333,  0.017141,  0.227273,  0.12381 ,  0.877193, -0.995685,\n",
              "         0.992237,  0.825397, -0.990674,  0.847189,  0.52381 ,  0.086207,\n",
              "         0.473684,  0.909091, 11.      ],\n",
              "       [ 1.      ,  0.      ,  0.363636,  0.128571,  0.719298, -0.995456,\n",
              "         0.990852,  0.730159, -0.989923,  0.847515,  0.52381 ,  0.517241,\n",
              "         0.526316,  0.272727, 11.      ],\n",
              "       [ 1.      ,  0.007237,  0.363636,  0.077778,  0.105263, -0.997322,\n",
              "         0.993113,  0.111111, -0.991856,  0.848719,  0.380952,  0.      ,\n",
              "         0.315789,  0.818182, 11.      ]], dtype=float32)"
            ]
          },
          "metadata": {},
          "execution_count": 2009
        }
      ]
    },
    {
      "cell_type": "code",
      "source": [
        "y[0]"
      ],
      "metadata": {
        "colab": {
          "base_uri": "https://localhost:8080/"
        },
        "id": "KE0LLdNltjFP",
        "outputId": "2b6cdd64-7d4e-47cb-ed2c-2a425cc4be2c"
      },
      "execution_count": 2010,
      "outputs": [
        {
          "output_type": "execute_result",
          "data": {
            "text/plain": [
              "array([[ 1.      ,  0.012314,  0.181818,  0.184127,  0.508772, -0.996364,\n",
              "         0.99234 ,  0.857143, -0.990424,  0.848616,  0.095238,  0.517241,\n",
              "         0.      ,  0.818182, 11.      ],\n",
              "       [ 1.      ,  0.006394,  0.181818,  0.198413,  0.350877, -0.996461,\n",
              "         0.989864,  0.825397, -0.990674,  0.847189,  0.142857,  0.517241,\n",
              "         0.105263,  0.      , 11.      ],\n",
              "       [ 1.      ,  0.003826,  0.181818,  0.18254 ,  0.824561, -0.996339,\n",
              "         0.990125,  0.825397, -0.990674,  0.847189,  0.142857,  0.517241,\n",
              "         0.105263,  0.      , 11.      ],\n",
              "       [ 0.333333,  0.023389,  0.136364,  0.220635,  0.77193 , -0.996058,\n",
              "         0.990114,  0.68254 , -0.989395,  0.845235,  0.238095,  0.206897,\n",
              "         0.210526,  0.      , 11.      ],\n",
              "       [ 0.333333,  0.018819,  0.136364,  0.092063,  0.719298, -0.995385,\n",
              "         0.991005,  0.746032, -0.989807,  0.845745,  0.285714,  0.517241,\n",
              "         0.263158,  0.545455, 11.      ],\n",
              "       [ 1.      ,  0.007237,  0.363636,  0.077778,  0.105263, -0.997322,\n",
              "         0.993113,  0.111111, -0.991856,  0.848719,  0.380952,  0.      ,\n",
              "         0.315789,  0.818182, 11.      ],\n",
              "       [ 0.333333,  0.017141,  0.227273,  0.12381 ,  0.877193, -0.995685,\n",
              "         0.992237,  0.825397, -0.990674,  0.847189,  0.52381 ,  0.086207,\n",
              "         0.473684,  0.909091, 11.      ],\n",
              "       [ 1.      ,  0.014415,  0.227273,  0.133333,  0.614035, -0.995456,\n",
              "         0.991803,  0.825397, -0.990674,  0.847189,  0.52381 ,  0.206897,\n",
              "         0.473684,  1.      , 11.      ],\n",
              "       [ 1.      ,  0.      ,  0.363636,  0.128571,  0.719298, -0.995456,\n",
              "         0.990852,  0.730159, -0.989923,  0.847515,  0.52381 ,  0.517241,\n",
              "         0.526316,  0.272727, 11.      ],\n",
              "       [ 1.      ,  0.005842,  0.863636,  0.185714,  0.701754, -0.995342,\n",
              "         0.990551,  0.809524, -0.989697,  0.847978,  0.52381 ,  0.258621,\n",
              "         0.526316,  0.      , 11.      ]], dtype=float32)"
            ]
          },
          "metadata": {},
          "execution_count": 2010
        }
      ]
    },
    {
      "cell_type": "code",
      "source": [
        "input = []\n",
        "target = []\n",
        "for array in X:\n",
        "    new_array = np.delete(array, -1, axis=1)\n",
        "    input.append(new_array)\n",
        "\n",
        "for array in y:\n",
        "    new_array = np.delete(array, -1, axis=1)\n",
        "    target.append(new_array)\n"
      ],
      "metadata": {
        "id": "1FphjSRRPfcS"
      },
      "execution_count": 2011,
      "outputs": []
    },
    {
      "cell_type": "code",
      "source": [
        "input[0].shape"
      ],
      "metadata": {
        "colab": {
          "base_uri": "https://localhost:8080/"
        },
        "id": "lBIomjW5g6dN",
        "outputId": "5a5d1bdc-d5a3-4019-9b76-c85afc8e0a59"
      },
      "execution_count": 2012,
      "outputs": [
        {
          "output_type": "execute_result",
          "data": {
            "text/plain": [
              "(10, 14)"
            ]
          },
          "metadata": {},
          "execution_count": 2012
        }
      ]
    },
    {
      "cell_type": "code",
      "source": [
        "target[0].shape"
      ],
      "metadata": {
        "colab": {
          "base_uri": "https://localhost:8080/"
        },
        "id": "mXQrAiSSg7KA",
        "outputId": "133b606e-b14f-40ef-ae99-a6db2f8f70f6"
      },
      "execution_count": 2013,
      "outputs": [
        {
          "output_type": "execute_result",
          "data": {
            "text/plain": [
              "(10, 14)"
            ]
          },
          "metadata": {},
          "execution_count": 2013
        }
      ]
    },
    {
      "cell_type": "code",
      "source": [
        "len(input[0])"
      ],
      "metadata": {
        "colab": {
          "base_uri": "https://localhost:8080/"
        },
        "id": "iew_7KHx77yh",
        "outputId": "f7f1d230-7d80-4a0f-c8c2-b92952e5b917"
      },
      "execution_count": 2014,
      "outputs": [
        {
          "output_type": "execute_result",
          "data": {
            "text/plain": [
              "10"
            ]
          },
          "metadata": {},
          "execution_count": 2014
        }
      ]
    },
    {
      "cell_type": "code",
      "source": [
        "len(target[0])"
      ],
      "metadata": {
        "colab": {
          "base_uri": "https://localhost:8080/"
        },
        "id": "RC65NsBT8CYy",
        "outputId": "7cc41c81-1d51-4b2a-dc06-6bc484cf419e"
      },
      "execution_count": 2015,
      "outputs": [
        {
          "output_type": "execute_result",
          "data": {
            "text/plain": [
              "10"
            ]
          },
          "metadata": {},
          "execution_count": 2015
        }
      ]
    },
    {
      "cell_type": "code",
      "source": [
        "# Define the input and output shape\n",
        "input_shape = (10, 14)\n",
        "output_shape = (10, 14)\n",
        "\n",
        "input = np.random.rand(*input_shape)\n",
        "target = np.random.rand(*output_shape)\n"
      ],
      "metadata": {
        "id": "5yZgnSDKBmRV"
      },
      "execution_count": 2016,
      "outputs": []
    },
    {
      "cell_type": "code",
      "source": [
        "input[0].shape"
      ],
      "metadata": {
        "colab": {
          "base_uri": "https://localhost:8080/"
        },
        "id": "-ZtLyV3bBqWt",
        "outputId": "55257acc-7f92-433e-d528-f8725476156b"
      },
      "execution_count": 2017,
      "outputs": [
        {
          "output_type": "execute_result",
          "data": {
            "text/plain": [
              "(14,)"
            ]
          },
          "metadata": {},
          "execution_count": 2017
        }
      ]
    },
    {
      "cell_type": "code",
      "source": [
        "target[0].shape"
      ],
      "metadata": {
        "colab": {
          "base_uri": "https://localhost:8080/"
        },
        "id": "-329SHafBr1h",
        "outputId": "204b0bf5-d83a-4731-88a6-3581afeb3c54"
      },
      "execution_count": 2018,
      "outputs": [
        {
          "output_type": "execute_result",
          "data": {
            "text/plain": [
              "(14,)"
            ]
          },
          "metadata": {},
          "execution_count": 2018
        }
      ]
    },
    {
      "cell_type": "code",
      "source": [
        "# input = input[0]\n",
        "# target = target[0]"
      ],
      "metadata": {
        "id": "DizO8PIIB5Ht"
      },
      "execution_count": 2019,
      "outputs": []
    },
    {
      "cell_type": "code",
      "source": [
        "\n",
        "input = input.reshape(1, *input_shape)\n",
        "target = target.reshape(1, *output_shape)\n",
        "\n",
        "# Define the encoder\n",
        "encoder_inputs = keras.layers.Input(shape=input_shape)\n",
        "encoder = keras.layers.LSTM(64, return_state=True)\n",
        "encoder_outputs, state_h, state_c = encoder(encoder_inputs)\n",
        "encoder_states = [state_h, state_c]\n",
        "\n",
        "# Define the decoder\n",
        "decoder_inputs = keras.layers.Input(shape=(None, 14))\n",
        "decoder_lstm = keras.layers.LSTM(64, return_sequences=True, return_state=True)\n",
        "decoder_outputs, _, _ = decoder_lstm(decoder_inputs, initial_state=encoder_states)\n",
        "decoder_dense = keras.layers.Dense(14, activation='linear')\n",
        "decoder_outputs = decoder_dense(decoder_outputs)\n",
        "\n",
        "# Define the model\n",
        "model = keras.models.Model([encoder_inputs, decoder_inputs], decoder_outputs)\n",
        "model.compile(optimizer='adam', loss='mean_squared_error')\n",
        "\n",
        "# Train the model\n",
        "model.fit([input, target], target, epochs=100, batch_size=16)"
      ],
      "metadata": {
        "colab": {
          "base_uri": "https://localhost:8080/",
          "height": 1000
        },
        "id": "kNsS9FF-hnRs",
        "outputId": "5bbf3703-03df-43fe-aa13-61cd3cda1fe3"
      },
      "execution_count": 2020,
      "outputs": [
        {
          "output_type": "stream",
          "name": "stdout",
          "text": [
            "Epoch 1/100\n",
            "1/1 [==============================] - 3s 3s/step - loss: 0.3547\n",
            "Epoch 2/100\n",
            "1/1 [==============================] - 0s 16ms/step - loss: 0.3121\n",
            "Epoch 3/100\n",
            "1/1 [==============================] - 0s 17ms/step - loss: 0.2738\n",
            "Epoch 4/100\n",
            "1/1 [==============================] - 0s 20ms/step - loss: 0.2392\n",
            "Epoch 5/100\n",
            "1/1 [==============================] - 0s 16ms/step - loss: 0.2079\n",
            "Epoch 6/100\n",
            "1/1 [==============================] - 0s 16ms/step - loss: 0.1799\n",
            "Epoch 7/100\n",
            "1/1 [==============================] - 0s 15ms/step - loss: 0.1555\n",
            "Epoch 8/100\n",
            "1/1 [==============================] - 0s 22ms/step - loss: 0.1351\n",
            "Epoch 9/100\n",
            "1/1 [==============================] - 0s 15ms/step - loss: 0.1191\n",
            "Epoch 10/100\n",
            "1/1 [==============================] - 0s 17ms/step - loss: 0.1075\n",
            "Epoch 11/100\n",
            "1/1 [==============================] - 0s 24ms/step - loss: 0.0999\n",
            "Epoch 12/100\n",
            "1/1 [==============================] - 0s 20ms/step - loss: 0.0950\n",
            "Epoch 13/100\n",
            "1/1 [==============================] - 0s 21ms/step - loss: 0.0916\n",
            "Epoch 14/100\n",
            "1/1 [==============================] - 0s 19ms/step - loss: 0.0888\n",
            "Epoch 15/100\n",
            "1/1 [==============================] - 0s 16ms/step - loss: 0.0861\n",
            "Epoch 16/100\n",
            "1/1 [==============================] - 0s 19ms/step - loss: 0.0834\n",
            "Epoch 17/100\n",
            "1/1 [==============================] - 0s 18ms/step - loss: 0.0810\n",
            "Epoch 18/100\n",
            "1/1 [==============================] - 0s 17ms/step - loss: 0.0788\n",
            "Epoch 19/100\n",
            "1/1 [==============================] - 0s 20ms/step - loss: 0.0772\n",
            "Epoch 20/100\n",
            "1/1 [==============================] - 0s 17ms/step - loss: 0.0761\n",
            "Epoch 21/100\n",
            "1/1 [==============================] - 0s 16ms/step - loss: 0.0754\n",
            "Epoch 22/100\n",
            "1/1 [==============================] - 0s 17ms/step - loss: 0.0749\n",
            "Epoch 23/100\n",
            "1/1 [==============================] - 0s 15ms/step - loss: 0.0745\n",
            "Epoch 24/100\n",
            "1/1 [==============================] - 0s 17ms/step - loss: 0.0740\n",
            "Epoch 25/100\n",
            "1/1 [==============================] - 0s 15ms/step - loss: 0.0733\n",
            "Epoch 26/100\n",
            "1/1 [==============================] - 0s 16ms/step - loss: 0.0724\n",
            "Epoch 27/100\n",
            "1/1 [==============================] - 0s 16ms/step - loss: 0.0714\n",
            "Epoch 28/100\n",
            "1/1 [==============================] - 0s 20ms/step - loss: 0.0703\n",
            "Epoch 29/100\n",
            "1/1 [==============================] - 0s 16ms/step - loss: 0.0691\n",
            "Epoch 30/100\n",
            "1/1 [==============================] - 0s 23ms/step - loss: 0.0680\n",
            "Epoch 31/100\n",
            "1/1 [==============================] - 0s 16ms/step - loss: 0.0670\n",
            "Epoch 32/100\n",
            "1/1 [==============================] - 0s 19ms/step - loss: 0.0661\n",
            "Epoch 33/100\n",
            "1/1 [==============================] - 0s 19ms/step - loss: 0.0653\n",
            "Epoch 34/100\n",
            "1/1 [==============================] - 0s 17ms/step - loss: 0.0646\n",
            "Epoch 35/100\n",
            "1/1 [==============================] - 0s 13ms/step - loss: 0.0640\n",
            "Epoch 36/100\n",
            "1/1 [==============================] - 0s 14ms/step - loss: 0.0636\n",
            "Epoch 37/100\n",
            "1/1 [==============================] - 0s 18ms/step - loss: 0.0632\n",
            "Epoch 38/100\n",
            "1/1 [==============================] - 0s 16ms/step - loss: 0.0628\n",
            "Epoch 39/100\n",
            "1/1 [==============================] - 0s 17ms/step - loss: 0.0624\n",
            "Epoch 40/100\n",
            "1/1 [==============================] - 0s 17ms/step - loss: 0.0621\n",
            "Epoch 41/100\n",
            "1/1 [==============================] - 0s 17ms/step - loss: 0.0616\n",
            "Epoch 42/100\n",
            "1/1 [==============================] - 0s 14ms/step - loss: 0.0612\n",
            "Epoch 43/100\n",
            "1/1 [==============================] - 0s 15ms/step - loss: 0.0607\n",
            "Epoch 44/100\n",
            "1/1 [==============================] - 0s 16ms/step - loss: 0.0601\n",
            "Epoch 45/100\n",
            "1/1 [==============================] - 0s 16ms/step - loss: 0.0596\n",
            "Epoch 46/100\n",
            "1/1 [==============================] - 0s 17ms/step - loss: 0.0590\n",
            "Epoch 47/100\n",
            "1/1 [==============================] - 0s 15ms/step - loss: 0.0585\n",
            "Epoch 48/100\n",
            "1/1 [==============================] - 0s 17ms/step - loss: 0.0580\n",
            "Epoch 49/100\n",
            "1/1 [==============================] - 0s 19ms/step - loss: 0.0575\n",
            "Epoch 50/100\n",
            "1/1 [==============================] - 0s 13ms/step - loss: 0.0570\n",
            "Epoch 51/100\n"
          ]
        },
        {
          "output_type": "error",
          "ename": "KeyboardInterrupt",
          "evalue": "ignored",
          "traceback": [
            "\u001b[0;31m---------------------------------------------------------------------------\u001b[0m",
            "\u001b[0;31mKeyboardInterrupt\u001b[0m                         Traceback (most recent call last)",
            "\u001b[0;32m<ipython-input-2020-c11ce5c93cb4>\u001b[0m in \u001b[0;36m<module>\u001b[0;34m\u001b[0m\n\u001b[1;32m     20\u001b[0m \u001b[0;34m\u001b[0m\u001b[0m\n\u001b[1;32m     21\u001b[0m \u001b[0;31m# Train the model\u001b[0m\u001b[0;34m\u001b[0m\u001b[0;34m\u001b[0m\u001b[0;34m\u001b[0m\u001b[0m\n\u001b[0;32m---> 22\u001b[0;31m \u001b[0mmodel\u001b[0m\u001b[0;34m.\u001b[0m\u001b[0mfit\u001b[0m\u001b[0;34m(\u001b[0m\u001b[0;34m[\u001b[0m\u001b[0minput\u001b[0m\u001b[0;34m,\u001b[0m \u001b[0mtarget\u001b[0m\u001b[0;34m]\u001b[0m\u001b[0;34m,\u001b[0m \u001b[0mtarget\u001b[0m\u001b[0;34m,\u001b[0m \u001b[0mepochs\u001b[0m\u001b[0;34m=\u001b[0m\u001b[0;36m100\u001b[0m\u001b[0;34m,\u001b[0m \u001b[0mbatch_size\u001b[0m\u001b[0;34m=\u001b[0m\u001b[0;36m16\u001b[0m\u001b[0;34m)\u001b[0m\u001b[0;34m\u001b[0m\u001b[0;34m\u001b[0m\u001b[0m\n\u001b[0m",
            "\u001b[0;32m/usr/local/lib/python3.8/dist-packages/keras/utils/traceback_utils.py\u001b[0m in \u001b[0;36merror_handler\u001b[0;34m(*args, **kwargs)\u001b[0m\n\u001b[1;32m     62\u001b[0m     \u001b[0mfiltered_tb\u001b[0m \u001b[0;34m=\u001b[0m \u001b[0;32mNone\u001b[0m\u001b[0;34m\u001b[0m\u001b[0;34m\u001b[0m\u001b[0m\n\u001b[1;32m     63\u001b[0m     \u001b[0;32mtry\u001b[0m\u001b[0;34m:\u001b[0m\u001b[0;34m\u001b[0m\u001b[0;34m\u001b[0m\u001b[0m\n\u001b[0;32m---> 64\u001b[0;31m       \u001b[0;32mreturn\u001b[0m \u001b[0mfn\u001b[0m\u001b[0;34m(\u001b[0m\u001b[0;34m*\u001b[0m\u001b[0margs\u001b[0m\u001b[0;34m,\u001b[0m \u001b[0;34m**\u001b[0m\u001b[0mkwargs\u001b[0m\u001b[0;34m)\u001b[0m\u001b[0;34m\u001b[0m\u001b[0;34m\u001b[0m\u001b[0m\n\u001b[0m\u001b[1;32m     65\u001b[0m     \u001b[0;32mexcept\u001b[0m \u001b[0mException\u001b[0m \u001b[0;32mas\u001b[0m \u001b[0me\u001b[0m\u001b[0;34m:\u001b[0m  \u001b[0;31m# pylint: disable=broad-except\u001b[0m\u001b[0;34m\u001b[0m\u001b[0;34m\u001b[0m\u001b[0m\n\u001b[1;32m     66\u001b[0m       \u001b[0mfiltered_tb\u001b[0m \u001b[0;34m=\u001b[0m \u001b[0m_process_traceback_frames\u001b[0m\u001b[0;34m(\u001b[0m\u001b[0me\u001b[0m\u001b[0;34m.\u001b[0m\u001b[0m__traceback__\u001b[0m\u001b[0;34m)\u001b[0m\u001b[0;34m\u001b[0m\u001b[0;34m\u001b[0m\u001b[0m\n",
            "\u001b[0;32m/usr/local/lib/python3.8/dist-packages/keras/engine/training.py\u001b[0m in \u001b[0;36mfit\u001b[0;34m(self, x, y, batch_size, epochs, verbose, callbacks, validation_split, validation_data, shuffle, class_weight, sample_weight, initial_epoch, steps_per_epoch, validation_steps, validation_batch_size, validation_freq, max_queue_size, workers, use_multiprocessing)\u001b[0m\n\u001b[1;32m   1407\u001b[0m                 _r=1):\n\u001b[1;32m   1408\u001b[0m               \u001b[0mcallbacks\u001b[0m\u001b[0;34m.\u001b[0m\u001b[0mon_train_batch_begin\u001b[0m\u001b[0;34m(\u001b[0m\u001b[0mstep\u001b[0m\u001b[0;34m)\u001b[0m\u001b[0;34m\u001b[0m\u001b[0;34m\u001b[0m\u001b[0m\n\u001b[0;32m-> 1409\u001b[0;31m               \u001b[0mtmp_logs\u001b[0m \u001b[0;34m=\u001b[0m \u001b[0mself\u001b[0m\u001b[0;34m.\u001b[0m\u001b[0mtrain_function\u001b[0m\u001b[0;34m(\u001b[0m\u001b[0miterator\u001b[0m\u001b[0;34m)\u001b[0m\u001b[0;34m\u001b[0m\u001b[0;34m\u001b[0m\u001b[0m\n\u001b[0m\u001b[1;32m   1410\u001b[0m               \u001b[0;32mif\u001b[0m \u001b[0mdata_handler\u001b[0m\u001b[0;34m.\u001b[0m\u001b[0mshould_sync\u001b[0m\u001b[0;34m:\u001b[0m\u001b[0;34m\u001b[0m\u001b[0;34m\u001b[0m\u001b[0m\n\u001b[1;32m   1411\u001b[0m                 \u001b[0mcontext\u001b[0m\u001b[0;34m.\u001b[0m\u001b[0masync_wait\u001b[0m\u001b[0;34m(\u001b[0m\u001b[0;34m)\u001b[0m\u001b[0;34m\u001b[0m\u001b[0;34m\u001b[0m\u001b[0m\n",
            "\u001b[0;32m/usr/local/lib/python3.8/dist-packages/tensorflow/python/util/traceback_utils.py\u001b[0m in \u001b[0;36merror_handler\u001b[0;34m(*args, **kwargs)\u001b[0m\n\u001b[1;32m    148\u001b[0m     \u001b[0mfiltered_tb\u001b[0m \u001b[0;34m=\u001b[0m \u001b[0;32mNone\u001b[0m\u001b[0;34m\u001b[0m\u001b[0;34m\u001b[0m\u001b[0m\n\u001b[1;32m    149\u001b[0m     \u001b[0;32mtry\u001b[0m\u001b[0;34m:\u001b[0m\u001b[0;34m\u001b[0m\u001b[0;34m\u001b[0m\u001b[0m\n\u001b[0;32m--> 150\u001b[0;31m       \u001b[0;32mreturn\u001b[0m \u001b[0mfn\u001b[0m\u001b[0;34m(\u001b[0m\u001b[0;34m*\u001b[0m\u001b[0margs\u001b[0m\u001b[0;34m,\u001b[0m \u001b[0;34m**\u001b[0m\u001b[0mkwargs\u001b[0m\u001b[0;34m)\u001b[0m\u001b[0;34m\u001b[0m\u001b[0;34m\u001b[0m\u001b[0m\n\u001b[0m\u001b[1;32m    151\u001b[0m     \u001b[0;32mexcept\u001b[0m \u001b[0mException\u001b[0m \u001b[0;32mas\u001b[0m \u001b[0me\u001b[0m\u001b[0;34m:\u001b[0m\u001b[0;34m\u001b[0m\u001b[0;34m\u001b[0m\u001b[0m\n\u001b[1;32m    152\u001b[0m       \u001b[0mfiltered_tb\u001b[0m \u001b[0;34m=\u001b[0m \u001b[0m_process_traceback_frames\u001b[0m\u001b[0;34m(\u001b[0m\u001b[0me\u001b[0m\u001b[0;34m.\u001b[0m\u001b[0m__traceback__\u001b[0m\u001b[0;34m)\u001b[0m\u001b[0;34m\u001b[0m\u001b[0;34m\u001b[0m\u001b[0m\n",
            "\u001b[0;32m/usr/local/lib/python3.8/dist-packages/tensorflow/python/eager/def_function.py\u001b[0m in \u001b[0;36m__call__\u001b[0;34m(self, *args, **kwds)\u001b[0m\n\u001b[1;32m    913\u001b[0m \u001b[0;34m\u001b[0m\u001b[0m\n\u001b[1;32m    914\u001b[0m       \u001b[0;32mwith\u001b[0m \u001b[0mOptionalXlaContext\u001b[0m\u001b[0;34m(\u001b[0m\u001b[0mself\u001b[0m\u001b[0;34m.\u001b[0m\u001b[0m_jit_compile\u001b[0m\u001b[0;34m)\u001b[0m\u001b[0;34m:\u001b[0m\u001b[0;34m\u001b[0m\u001b[0;34m\u001b[0m\u001b[0m\n\u001b[0;32m--> 915\u001b[0;31m         \u001b[0mresult\u001b[0m \u001b[0;34m=\u001b[0m \u001b[0mself\u001b[0m\u001b[0;34m.\u001b[0m\u001b[0m_call\u001b[0m\u001b[0;34m(\u001b[0m\u001b[0;34m*\u001b[0m\u001b[0margs\u001b[0m\u001b[0;34m,\u001b[0m \u001b[0;34m**\u001b[0m\u001b[0mkwds\u001b[0m\u001b[0;34m)\u001b[0m\u001b[0;34m\u001b[0m\u001b[0;34m\u001b[0m\u001b[0m\n\u001b[0m\u001b[1;32m    916\u001b[0m \u001b[0;34m\u001b[0m\u001b[0m\n\u001b[1;32m    917\u001b[0m       \u001b[0mnew_tracing_count\u001b[0m \u001b[0;34m=\u001b[0m \u001b[0mself\u001b[0m\u001b[0;34m.\u001b[0m\u001b[0mexperimental_get_tracing_count\u001b[0m\u001b[0;34m(\u001b[0m\u001b[0;34m)\u001b[0m\u001b[0;34m\u001b[0m\u001b[0;34m\u001b[0m\u001b[0m\n",
            "\u001b[0;32m/usr/local/lib/python3.8/dist-packages/tensorflow/python/eager/def_function.py\u001b[0m in \u001b[0;36m_call\u001b[0;34m(self, *args, **kwds)\u001b[0m\n\u001b[1;32m    945\u001b[0m       \u001b[0;31m# In this case we have created variables on the first call, so we run the\u001b[0m\u001b[0;34m\u001b[0m\u001b[0;34m\u001b[0m\u001b[0;34m\u001b[0m\u001b[0m\n\u001b[1;32m    946\u001b[0m       \u001b[0;31m# defunned version which is guaranteed to never create variables.\u001b[0m\u001b[0;34m\u001b[0m\u001b[0;34m\u001b[0m\u001b[0;34m\u001b[0m\u001b[0m\n\u001b[0;32m--> 947\u001b[0;31m       \u001b[0;32mreturn\u001b[0m \u001b[0mself\u001b[0m\u001b[0;34m.\u001b[0m\u001b[0m_stateless_fn\u001b[0m\u001b[0;34m(\u001b[0m\u001b[0;34m*\u001b[0m\u001b[0margs\u001b[0m\u001b[0;34m,\u001b[0m \u001b[0;34m**\u001b[0m\u001b[0mkwds\u001b[0m\u001b[0;34m)\u001b[0m  \u001b[0;31m# pylint: disable=not-callable\u001b[0m\u001b[0;34m\u001b[0m\u001b[0;34m\u001b[0m\u001b[0m\n\u001b[0m\u001b[1;32m    948\u001b[0m     \u001b[0;32melif\u001b[0m \u001b[0mself\u001b[0m\u001b[0;34m.\u001b[0m\u001b[0m_stateful_fn\u001b[0m \u001b[0;32mis\u001b[0m \u001b[0;32mnot\u001b[0m \u001b[0;32mNone\u001b[0m\u001b[0;34m:\u001b[0m\u001b[0;34m\u001b[0m\u001b[0;34m\u001b[0m\u001b[0m\n\u001b[1;32m    949\u001b[0m       \u001b[0;31m# Release the lock early so that multiple threads can perform the call\u001b[0m\u001b[0;34m\u001b[0m\u001b[0;34m\u001b[0m\u001b[0;34m\u001b[0m\u001b[0m\n",
            "\u001b[0;32m/usr/local/lib/python3.8/dist-packages/tensorflow/python/eager/function.py\u001b[0m in \u001b[0;36m__call__\u001b[0;34m(self, *args, **kwargs)\u001b[0m\n\u001b[1;32m   2451\u001b[0m       (graph_function,\n\u001b[1;32m   2452\u001b[0m        filtered_flat_args) = self._maybe_define_function(args, kwargs)\n\u001b[0;32m-> 2453\u001b[0;31m     return graph_function._call_flat(\n\u001b[0m\u001b[1;32m   2454\u001b[0m         filtered_flat_args, captured_inputs=graph_function.captured_inputs)  # pylint: disable=protected-access\n\u001b[1;32m   2455\u001b[0m \u001b[0;34m\u001b[0m\u001b[0m\n",
            "\u001b[0;32m/usr/local/lib/python3.8/dist-packages/tensorflow/python/eager/function.py\u001b[0m in \u001b[0;36m_call_flat\u001b[0;34m(self, args, captured_inputs, cancellation_manager)\u001b[0m\n\u001b[1;32m   1858\u001b[0m         and executing_eagerly):\n\u001b[1;32m   1859\u001b[0m       \u001b[0;31m# No tape is watching; skip to running the function.\u001b[0m\u001b[0;34m\u001b[0m\u001b[0;34m\u001b[0m\u001b[0;34m\u001b[0m\u001b[0m\n\u001b[0;32m-> 1860\u001b[0;31m       return self._build_call_outputs(self._inference_function.call(\n\u001b[0m\u001b[1;32m   1861\u001b[0m           ctx, args, cancellation_manager=cancellation_manager))\n\u001b[1;32m   1862\u001b[0m     forward_backward = self._select_forward_and_backward_functions(\n",
            "\u001b[0;32m/usr/local/lib/python3.8/dist-packages/tensorflow/python/eager/function.py\u001b[0m in \u001b[0;36mcall\u001b[0;34m(self, ctx, args, cancellation_manager)\u001b[0m\n\u001b[1;32m    495\u001b[0m       \u001b[0;32mwith\u001b[0m \u001b[0m_InterpolateFunctionError\u001b[0m\u001b[0;34m(\u001b[0m\u001b[0mself\u001b[0m\u001b[0;34m)\u001b[0m\u001b[0;34m:\u001b[0m\u001b[0;34m\u001b[0m\u001b[0;34m\u001b[0m\u001b[0m\n\u001b[1;32m    496\u001b[0m         \u001b[0;32mif\u001b[0m \u001b[0mcancellation_manager\u001b[0m \u001b[0;32mis\u001b[0m \u001b[0;32mNone\u001b[0m\u001b[0;34m:\u001b[0m\u001b[0;34m\u001b[0m\u001b[0;34m\u001b[0m\u001b[0m\n\u001b[0;32m--> 497\u001b[0;31m           outputs = execute.execute(\n\u001b[0m\u001b[1;32m    498\u001b[0m               \u001b[0mstr\u001b[0m\u001b[0;34m(\u001b[0m\u001b[0mself\u001b[0m\u001b[0;34m.\u001b[0m\u001b[0msignature\u001b[0m\u001b[0;34m.\u001b[0m\u001b[0mname\u001b[0m\u001b[0;34m)\u001b[0m\u001b[0;34m,\u001b[0m\u001b[0;34m\u001b[0m\u001b[0;34m\u001b[0m\u001b[0m\n\u001b[1;32m    499\u001b[0m               \u001b[0mnum_outputs\u001b[0m\u001b[0;34m=\u001b[0m\u001b[0mself\u001b[0m\u001b[0;34m.\u001b[0m\u001b[0m_num_outputs\u001b[0m\u001b[0;34m,\u001b[0m\u001b[0;34m\u001b[0m\u001b[0;34m\u001b[0m\u001b[0m\n",
            "\u001b[0;32m/usr/local/lib/python3.8/dist-packages/tensorflow/python/eager/execute.py\u001b[0m in \u001b[0;36mquick_execute\u001b[0;34m(op_name, num_outputs, inputs, attrs, ctx, name)\u001b[0m\n\u001b[1;32m     52\u001b[0m   \u001b[0;32mtry\u001b[0m\u001b[0;34m:\u001b[0m\u001b[0;34m\u001b[0m\u001b[0;34m\u001b[0m\u001b[0m\n\u001b[1;32m     53\u001b[0m     \u001b[0mctx\u001b[0m\u001b[0;34m.\u001b[0m\u001b[0mensure_initialized\u001b[0m\u001b[0;34m(\u001b[0m\u001b[0;34m)\u001b[0m\u001b[0;34m\u001b[0m\u001b[0;34m\u001b[0m\u001b[0m\n\u001b[0;32m---> 54\u001b[0;31m     tensors = pywrap_tfe.TFE_Py_Execute(ctx._handle, device_name, op_name,\n\u001b[0m\u001b[1;32m     55\u001b[0m                                         inputs, attrs, num_outputs)\n\u001b[1;32m     56\u001b[0m   \u001b[0;32mexcept\u001b[0m \u001b[0mcore\u001b[0m\u001b[0;34m.\u001b[0m\u001b[0m_NotOkStatusException\u001b[0m \u001b[0;32mas\u001b[0m \u001b[0me\u001b[0m\u001b[0;34m:\u001b[0m\u001b[0;34m\u001b[0m\u001b[0;34m\u001b[0m\u001b[0m\n",
            "\u001b[0;31mKeyboardInterrupt\u001b[0m: "
          ]
        }
      ]
    },
    {
      "cell_type": "code",
      "source": [],
      "metadata": {
        "id": "_f0vlsi79Dq8"
      },
      "execution_count": null,
      "outputs": []
    }
  ]
}